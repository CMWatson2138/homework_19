{
 "cells": [
  {
   "cell_type": "markdown",
   "metadata": {},
   "source": [
    "1. Take one of the supervised learning models you have built recently and apply at least\n",
    "three dimensionality reduction techniques to it (separately). Be sure to create a short\n",
    "summary of each technique you use. Indicate how each changed the model\n",
    "performance. Reference:\n",
    "https://machinelearningmastery.com/dimensionality-reduction-algorithms-with-python/"
   ]
  },
  {
   "cell_type": "code",
   "execution_count": 15,
   "metadata": {},
   "outputs": [
    {
     "data": {
      "text/plain": [
       "(4177, 9)"
      ]
     },
     "execution_count": 15,
     "metadata": {},
     "output_type": "execute_result"
    }
   ],
   "source": [
    "import numpy as np\n",
    "import pandas as pd\n",
    "from sklearn import tree\n",
    "from sklearn.metrics import confusion_matrix, classification_report, plot_confusion_matrix\n",
    "import pydotplus\n",
    "from IPython.display import Image\n",
    "\n",
    "ab_df=pd.read_csv('abalone.data',delimiter=',',header=None)\n",
    "ab_df.shape"
   ]
  },
  {
   "cell_type": "code",
   "execution_count": 16,
   "metadata": {},
   "outputs": [],
   "source": [
    "ab_df.columns=['sex', 'length', 'diameter', 'height', 'whole_weight', 'shucked_weight', 'viscera_weight', 'shell_weight', 'rings']"
   ]
  },
  {
   "cell_type": "code",
   "execution_count": 17,
   "metadata": {},
   "outputs": [],
   "source": [
    "df=ab_df[['sex', 'length', 'diameter', 'height', 'whole_weight', 'rings']]"
   ]
  },
  {
   "cell_type": "code",
   "execution_count": 26,
   "metadata": {},
   "outputs": [
    {
     "name": "stdout",
     "output_type": "stream",
     "text": [
      "length          0.1650\n",
      "diameter        0.1300\n",
      "height          0.0500\n",
      "whole_weight    0.7115\n",
      "rings           3.0000\n",
      "dtype: float64\n"
     ]
    },
    {
     "data": {
      "text/plain": [
       "(3821, 6)"
      ]
     },
     "execution_count": 26,
     "metadata": {},
     "output_type": "execute_result"
    }
   ],
   "source": [
    "outlier_rem_df=df.copy()\n",
    "# IQR\n",
    "Q1 = outlier_rem_df.quantile(0.25)\n",
    "Q3 = outlier_rem_df.quantile(0.75)\n",
    "IQR = Q3 - Q1\n",
    "print(IQR)\n",
    "mod_df_out = outlier_rem_df[~((outlier_rem_df < (Q1 - 1.5 * IQR)) |(outlier_rem_df > (Q3 + 1.5 * IQR))).any(axis=1)]\n",
    "mod_df_out.shape"
   ]
  },
  {
   "cell_type": "code",
   "execution_count": 27,
   "metadata": {},
   "outputs": [
    {
     "data": {
      "text/plain": [
       "array([15,  7,  9, 10,  8, 14, 11, 12, 13,  5,  6,  4], dtype=int64)"
      ]
     },
     "execution_count": 27,
     "metadata": {},
     "output_type": "execute_result"
    }
   ],
   "source": [
    "mod_df_out['rings'].unique()"
   ]
  },
  {
   "cell_type": "code",
   "execution_count": 28,
   "metadata": {},
   "outputs": [
    {
     "data": {
      "text/html": [
       "<div>\n",
       "<style scoped>\n",
       "    .dataframe tbody tr th:only-of-type {\n",
       "        vertical-align: middle;\n",
       "    }\n",
       "\n",
       "    .dataframe tbody tr th {\n",
       "        vertical-align: top;\n",
       "    }\n",
       "\n",
       "    .dataframe thead th {\n",
       "        text-align: right;\n",
       "    }\n",
       "</style>\n",
       "<table border=\"1\" class=\"dataframe\">\n",
       "  <thead>\n",
       "    <tr style=\"text-align: right;\">\n",
       "      <th></th>\n",
       "      <th>length</th>\n",
       "      <th>diameter</th>\n",
       "      <th>height</th>\n",
       "      <th>whole_weight</th>\n",
       "      <th>rings</th>\n",
       "      <th>sex_F</th>\n",
       "      <th>sex_I</th>\n",
       "      <th>sex_M</th>\n",
       "    </tr>\n",
       "  </thead>\n",
       "  <tbody>\n",
       "    <tr>\n",
       "      <th>0</th>\n",
       "      <td>0.455</td>\n",
       "      <td>0.365</td>\n",
       "      <td>0.095</td>\n",
       "      <td>0.5140</td>\n",
       "      <td>15</td>\n",
       "      <td>0</td>\n",
       "      <td>0</td>\n",
       "      <td>1</td>\n",
       "    </tr>\n",
       "    <tr>\n",
       "      <th>1</th>\n",
       "      <td>0.350</td>\n",
       "      <td>0.265</td>\n",
       "      <td>0.090</td>\n",
       "      <td>0.2255</td>\n",
       "      <td>7</td>\n",
       "      <td>0</td>\n",
       "      <td>0</td>\n",
       "      <td>1</td>\n",
       "    </tr>\n",
       "    <tr>\n",
       "      <th>2</th>\n",
       "      <td>0.530</td>\n",
       "      <td>0.420</td>\n",
       "      <td>0.135</td>\n",
       "      <td>0.6770</td>\n",
       "      <td>9</td>\n",
       "      <td>1</td>\n",
       "      <td>0</td>\n",
       "      <td>0</td>\n",
       "    </tr>\n",
       "    <tr>\n",
       "      <th>3</th>\n",
       "      <td>0.440</td>\n",
       "      <td>0.365</td>\n",
       "      <td>0.125</td>\n",
       "      <td>0.5160</td>\n",
       "      <td>10</td>\n",
       "      <td>0</td>\n",
       "      <td>0</td>\n",
       "      <td>1</td>\n",
       "    </tr>\n",
       "    <tr>\n",
       "      <th>4</th>\n",
       "      <td>0.330</td>\n",
       "      <td>0.255</td>\n",
       "      <td>0.080</td>\n",
       "      <td>0.2050</td>\n",
       "      <td>7</td>\n",
       "      <td>0</td>\n",
       "      <td>1</td>\n",
       "      <td>0</td>\n",
       "    </tr>\n",
       "    <tr>\n",
       "      <th>...</th>\n",
       "      <td>...</td>\n",
       "      <td>...</td>\n",
       "      <td>...</td>\n",
       "      <td>...</td>\n",
       "      <td>...</td>\n",
       "      <td>...</td>\n",
       "      <td>...</td>\n",
       "      <td>...</td>\n",
       "    </tr>\n",
       "    <tr>\n",
       "      <th>4172</th>\n",
       "      <td>0.565</td>\n",
       "      <td>0.450</td>\n",
       "      <td>0.165</td>\n",
       "      <td>0.8870</td>\n",
       "      <td>11</td>\n",
       "      <td>1</td>\n",
       "      <td>0</td>\n",
       "      <td>0</td>\n",
       "    </tr>\n",
       "    <tr>\n",
       "      <th>4173</th>\n",
       "      <td>0.590</td>\n",
       "      <td>0.440</td>\n",
       "      <td>0.135</td>\n",
       "      <td>0.9660</td>\n",
       "      <td>10</td>\n",
       "      <td>0</td>\n",
       "      <td>0</td>\n",
       "      <td>1</td>\n",
       "    </tr>\n",
       "    <tr>\n",
       "      <th>4174</th>\n",
       "      <td>0.600</td>\n",
       "      <td>0.475</td>\n",
       "      <td>0.205</td>\n",
       "      <td>1.1760</td>\n",
       "      <td>9</td>\n",
       "      <td>0</td>\n",
       "      <td>0</td>\n",
       "      <td>1</td>\n",
       "    </tr>\n",
       "    <tr>\n",
       "      <th>4175</th>\n",
       "      <td>0.625</td>\n",
       "      <td>0.485</td>\n",
       "      <td>0.150</td>\n",
       "      <td>1.0945</td>\n",
       "      <td>10</td>\n",
       "      <td>1</td>\n",
       "      <td>0</td>\n",
       "      <td>0</td>\n",
       "    </tr>\n",
       "    <tr>\n",
       "      <th>4176</th>\n",
       "      <td>0.710</td>\n",
       "      <td>0.555</td>\n",
       "      <td>0.195</td>\n",
       "      <td>1.9485</td>\n",
       "      <td>12</td>\n",
       "      <td>0</td>\n",
       "      <td>0</td>\n",
       "      <td>1</td>\n",
       "    </tr>\n",
       "  </tbody>\n",
       "</table>\n",
       "<p>3821 rows × 8 columns</p>\n",
       "</div>"
      ],
      "text/plain": [
       "      length  diameter  height  whole_weight  rings  sex_F  sex_I  sex_M\n",
       "0      0.455     0.365   0.095        0.5140     15      0      0      1\n",
       "1      0.350     0.265   0.090        0.2255      7      0      0      1\n",
       "2      0.530     0.420   0.135        0.6770      9      1      0      0\n",
       "3      0.440     0.365   0.125        0.5160     10      0      0      1\n",
       "4      0.330     0.255   0.080        0.2050      7      0      1      0\n",
       "...      ...       ...     ...           ...    ...    ...    ...    ...\n",
       "4172   0.565     0.450   0.165        0.8870     11      1      0      0\n",
       "4173   0.590     0.440   0.135        0.9660     10      0      0      1\n",
       "4174   0.600     0.475   0.205        1.1760      9      0      0      1\n",
       "4175   0.625     0.485   0.150        1.0945     10      1      0      0\n",
       "4176   0.710     0.555   0.195        1.9485     12      0      0      1\n",
       "\n",
       "[3821 rows x 8 columns]"
      ]
     },
     "execution_count": 28,
     "metadata": {},
     "output_type": "execute_result"
    }
   ],
   "source": [
    "aba_df=pd.get_dummies(mod_df_out)\n",
    "aba_df"
   ]
  },
  {
   "cell_type": "code",
   "execution_count": 29,
   "metadata": {},
   "outputs": [
    {
     "name": "stdout",
     "output_type": "stream",
     "text": [
      "Train: 3.324, Test: 3.168\n",
      "RMSE is  1.779959494990532\n"
     ]
    }
   ],
   "source": [
    "from sklearn.preprocessing import StandardScaler\n",
    "from keras.layers import Dense\n",
    "from keras.models import Sequential\n",
    "from keras.optimizers import SGD\n",
    "from sklearn.model_selection import train_test_split\n",
    "from matplotlib import pyplot\n",
    "from sklearn.metrics import mean_squared_error\n",
    "from tensorflow.keras.callbacks import EarlyStopping\n",
    "\n",
    "X= aba_df.drop('rings', axis=1)\n",
    "y= aba_df['rings']\n",
    "\n",
    "X_train, X_test, y_train, y_test = train_test_split(X, y, test_size = 0.2, random_state=42)\n",
    "\n",
    "scaler = StandardScaler()\n",
    "scaler.fit_transform(X_train, y_train)\n",
    "\n",
    "# define model\n",
    "n_cols = X_train.shape[1]\n",
    "input_shape = (n_cols,)\n",
    "\n",
    "model = Sequential()\n",
    "model.add(Dense(50, activation='relu',input_shape=input_shape))\n",
    "model.add(Dense(50, activation='relu'))\n",
    "model.add(Dense(1, activation='linear'))\n",
    "# compile model\n",
    "model.compile(loss='mean_squared_error', optimizer=SGD(learning_rate=0.01, momentum=0.9))\n",
    "early_stopping = EarlyStopping(patience=3, monitor='val_loss')\n",
    "# fit model\n",
    "history = model.fit(X_train, y_train, callbacks=[early_stopping, history], validation_data=(X_test, y_test), epochs=100, verbose=0)\n",
    "y_pred= model.predict(X_test)\n",
    "# evaluate the model\n",
    "train_mse = model.evaluate(X_train, y_train, verbose=0)\n",
    "test_mse = model.evaluate(X_test, y_test, verbose=0)\n",
    "print('Train: %.3f, Test: %.3f' % (train_mse, test_mse))\n",
    "rmse = np.sqrt(mean_squared_error(y_test, y_pred))\n",
    "print('RMSE is ', rmse)"
   ]
  },
  {
   "cell_type": "code",
   "execution_count": 30,
   "metadata": {},
   "outputs": [
    {
     "name": "stdout",
     "output_type": "stream",
     "text": [
      "Train: 3.396, Test: 3.357\n",
      "RMSE is  1.832105427228917\n"
     ]
    }
   ],
   "source": [
    "from sklearn.decomposition import TruncatedSVD\n",
    "\n",
    "svd = TruncatedSVD(n_components=3)\n",
    "\n",
    "X_train_svd=svd.fit_transform(X_train)\n",
    "X_test_svd=svd.fit_transform(X_test)\n",
    "\n",
    "# define model\n",
    "n_cols = X_train_svd.shape[1]\n",
    "input_shape = (n_cols,)\n",
    "\n",
    "model = Sequential()\n",
    "model.add(Dense(50, activation='relu',input_shape=input_shape))\n",
    "model.add(Dense(50, activation='relu'))\n",
    "model.add(Dense(1, activation='linear'))\n",
    "# compile model\n",
    "model.compile(loss='mean_squared_error', optimizer=SGD(learning_rate=0.01, momentum=0.9))\n",
    "early_stopping = EarlyStopping(patience=3, monitor='val_loss')\n",
    "# fit model\n",
    "history = model.fit(X_train_svd, y_train, callbacks=[early_stopping, history], validation_data=(X_test_svd, y_test), epochs=100, verbose=0)\n",
    "y_pred= model.predict(X_test_svd)\n",
    "# evaluate the model\n",
    "train_mse = model.evaluate(X_train_svd, y_train, verbose=0)\n",
    "test_mse = model.evaluate(X_test_svd, y_test, verbose=0)\n",
    "print('Train: %.3f, Test: %.3f' % (train_mse, test_mse))\n",
    "rmse = np.sqrt(mean_squared_error(y_test, y_pred))\n",
    "print('RMSE is ', rmse)"
   ]
  },
  {
   "cell_type": "code",
   "execution_count": 31,
   "metadata": {},
   "outputs": [
    {
     "name": "stdout",
     "output_type": "stream",
     "text": [
      "Train: 3.233, Test: 3.013\n",
      "RMSE is  1.7357692640637896\n"
     ]
    }
   ],
   "source": [
    "from sklearn.decomposition import PCA\n",
    "\n",
    "pca = PCA(n_components=3)\n",
    "\n",
    "X_train_pca=pca.fit_transform(X_train)\n",
    "X_test_pca=pca.fit_transform(X_test)\n",
    "\n",
    "# define model\n",
    "n_cols = X_train_pca.shape[1]\n",
    "input_shape = (n_cols,)\n",
    "\n",
    "model = Sequential()\n",
    "model.add(Dense(50, activation='relu',input_shape=input_shape))\n",
    "model.add(Dense(50, activation='relu'))\n",
    "model.add(Dense(1, activation='linear'))\n",
    "# compile model\n",
    "model.compile(loss='mean_squared_error', optimizer=SGD(learning_rate=0.01, momentum=0.9))\n",
    "early_stopping = EarlyStopping(patience=3, monitor='val_loss')\n",
    "# fit model\n",
    "history = model.fit(X_train_pca, y_train, callbacks=[early_stopping, history], validation_data=(X_test_pca, y_test), epochs=100, verbose=0)\n",
    "y_pred= model.predict(X_test_pca)\n",
    "# evaluate the model\n",
    "train_mse = model.evaluate(X_train_pca, y_train, verbose=0)\n",
    "test_mse = model.evaluate(X_test_pca, y_test, verbose=0)\n",
    "print('Train: %.3f, Test: %.3f' % (train_mse, test_mse))\n",
    "rmse = np.sqrt(mean_squared_error(y_test, y_pred))\n",
    "print('RMSE is ', rmse)"
   ]
  },
  {
   "cell_type": "code",
   "execution_count": 32,
   "metadata": {},
   "outputs": [
    {
     "name": "stdout",
     "output_type": "stream",
     "text": [
      "Train: 3.408, Test: 4.094\n",
      "RMSE is  2.023388892069943\n"
     ]
    }
   ],
   "source": [
    "from sklearn.manifold import Isomap\n",
    "\n",
    "iso = Isomap(n_components=3)\n",
    "\n",
    "X_train_iso=iso.fit_transform(X_train)\n",
    "X_test_iso=iso.fit_transform(X_test)\n",
    "\n",
    "# define model\n",
    "n_cols = X_train_iso.shape[1]\n",
    "input_shape = (n_cols,)\n",
    "\n",
    "model = Sequential()\n",
    "model.add(Dense(50, activation='relu',input_shape=input_shape))\n",
    "model.add(Dense(50, activation='relu'))\n",
    "model.add(Dense(1, activation='linear'))\n",
    "# compile model\n",
    "model.compile(loss='mean_squared_error', optimizer=SGD(learning_rate=0.01, momentum=0.9))\n",
    "early_stopping = EarlyStopping(patience=3, monitor='val_loss')\n",
    "# fit model\n",
    "history = model.fit(X_train_iso, y_train, callbacks=[early_stopping, history], validation_data=(X_test_iso, y_test), epochs=100, verbose=0)\n",
    "y_pred= model.predict(X_test_iso)\n",
    "# evaluate the model\n",
    "train_mse = model.evaluate(X_train_iso, y_train, verbose=0)\n",
    "test_mse = model.evaluate(X_test_iso, y_test, verbose=0)\n",
    "print('Train: %.3f, Test: %.3f' % (train_mse, test_mse))\n",
    "rmse = np.sqrt(mean_squared_error(y_test, y_pred))\n",
    "print('RMSE is ', rmse)"
   ]
  },
  {
   "cell_type": "markdown",
   "metadata": {},
   "source": [
    "Write a function that will indicate if an inputted IPv4 address is accurate or not.\n",
    "IP addresses are valid if they have 4 values between 0 and 255 (inclusive), punctuated\n",
    "by periods.\n",
    "\n",
    "Input 1:\n",
    "2.33.245.5\n",
    "\n",
    "Output 1:\n",
    "True\n",
    "\n",
    "Input 2:\n",
    "12.345.67.89\n",
    "\n",
    "Output 2:\n",
    "False"
   ]
  },
  {
   "cell_type": "code",
   "execution_count": 51,
   "metadata": {},
   "outputs": [],
   "source": [
    "def ipv_check(ipv):\n",
    "    if ipv.count(\".\") != 3:\n",
    "        return \"False\"\n",
    "    \n",
    "    ipv_components= list(map(str, ipv.split(\".\")))\n",
    "    print(ipv_components)\n",
    "    \n",
    "    for x in ipv_components:\n",
    "        if int(x) < 0 or int(x) > 255:\n",
    "            return \"False\"\n",
    "        \n",
    "    return \"True\"\n",
    "    "
   ]
  },
  {
   "cell_type": "code",
   "execution_count": 52,
   "metadata": {},
   "outputs": [
    {
     "name": "stdout",
     "output_type": "stream",
     "text": [
      "['2', '33', '245', '5']\n"
     ]
    },
    {
     "data": {
      "text/plain": [
       "'True'"
      ]
     },
     "execution_count": 52,
     "metadata": {},
     "output_type": "execute_result"
    }
   ],
   "source": [
    "ipv_check('2.33.245.5')"
   ]
  },
  {
   "cell_type": "code",
   "execution_count": 53,
   "metadata": {},
   "outputs": [
    {
     "name": "stdout",
     "output_type": "stream",
     "text": [
      "['12', '345', '67', '89']\n"
     ]
    },
    {
     "data": {
      "text/plain": [
       "'False'"
      ]
     },
     "execution_count": 53,
     "metadata": {},
     "output_type": "execute_result"
    }
   ],
   "source": [
    "ipv_check('12.345.67.89')"
   ]
  }
 ],
 "metadata": {
  "kernelspec": {
   "display_name": "Python 3",
   "language": "python",
   "name": "python3"
  },
  "language_info": {
   "codemirror_mode": {
    "name": "ipython",
    "version": 3
   },
   "file_extension": ".py",
   "mimetype": "text/x-python",
   "name": "python",
   "nbconvert_exporter": "python",
   "pygments_lexer": "ipython3",
   "version": "3.8.5"
  }
 },
 "nbformat": 4,
 "nbformat_minor": 4
}
